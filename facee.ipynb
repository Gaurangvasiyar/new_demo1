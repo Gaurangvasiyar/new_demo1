{
  "nbformat": 4,
  "nbformat_minor": 0,
  "metadata": {
    "colab": {
      "provenance": [],
      "include_colab_link": true
    },
    "kernelspec": {
      "name": "python3",
      "display_name": "Python 3"
    },
    "language_info": {
      "name": "python"
    }
  },
  "cells": [
    {
      "cell_type": "markdown",
      "metadata": {
        "id": "view-in-github",
        "colab_type": "text"
      },
      "source": [
        "<a href=\"https://colab.research.google.com/github/Gaurangvasiyar/new_demo1/blob/main/facee.ipynb\" target=\"_parent\"><img src=\"https://colab.research.google.com/assets/colab-badge.svg\" alt=\"Open In Colab\"/></a>"
      ]
    },
    {
      "cell_type": "code",
      "source": [
        "!pip install python-telegram-bot"
      ],
      "metadata": {
        "colab": {
          "base_uri": "https://localhost:8080/"
        },
        "id": "t14a-TZDBjiO",
        "outputId": "e8c3b7a0-9037-4e2d-f940-d0e94af158d6"
      },
      "execution_count": null,
      "outputs": [
        {
          "output_type": "stream",
          "name": "stdout",
          "text": [
            "Requirement already satisfied: python-telegram-bot in /usr/local/lib/python3.10/dist-packages (20.8)\n",
            "Requirement already satisfied: httpx~=0.26.0 in /usr/local/lib/python3.10/dist-packages (from python-telegram-bot) (0.26.0)\n",
            "Requirement already satisfied: anyio in /usr/local/lib/python3.10/dist-packages (from httpx~=0.26.0->python-telegram-bot) (3.7.1)\n",
            "Requirement already satisfied: certifi in /usr/local/lib/python3.10/dist-packages (from httpx~=0.26.0->python-telegram-bot) (2024.2.2)\n",
            "Requirement already satisfied: httpcore==1.* in /usr/local/lib/python3.10/dist-packages (from httpx~=0.26.0->python-telegram-bot) (1.0.4)\n",
            "Requirement already satisfied: idna in /usr/local/lib/python3.10/dist-packages (from httpx~=0.26.0->python-telegram-bot) (3.6)\n",
            "Requirement already satisfied: sniffio in /usr/local/lib/python3.10/dist-packages (from httpx~=0.26.0->python-telegram-bot) (1.3.0)\n",
            "Requirement already satisfied: h11<0.15,>=0.13 in /usr/local/lib/python3.10/dist-packages (from httpcore==1.*->httpx~=0.26.0->python-telegram-bot) (0.14.0)\n",
            "Requirement already satisfied: exceptiongroup in /usr/local/lib/python3.10/dist-packages (from anyio->httpx~=0.26.0->python-telegram-bot) (1.2.0)\n"
          ]
        }
      ]
    },
    {
      "cell_type": "code",
      "source": [
        "from google.colab import drive\n",
        "drive.mount('/content/drive')"
      ],
      "metadata": {
        "colab": {
          "base_uri": "https://localhost:8080/"
        },
        "id": "mBQtD8WSxA2l",
        "outputId": "ca4a29c5-cb97-4f51-a0e6-4aa829e7b80b"
      },
      "execution_count": null,
      "outputs": [
        {
          "output_type": "stream",
          "name": "stdout",
          "text": [
            "Drive already mounted at /content/drive; to attempt to forcibly remount, call drive.mount(\"/content/drive\", force_remount=True).\n"
          ]
        }
      ]
    },
    {
      "cell_type": "code",
      "execution_count": null,
      "metadata": {
        "id": "RJ1rF1_ABNsk"
      },
      "outputs": [],
      "source": [
        "import os, shutil\n",
        "import numpy as np\n",
        "import tensorflow as tf\n",
        "from tensorflow.keras.preprocessing import image\n",
        "from tensorflow.keras.models import load_model\n",
        "from telegram import Bot\n",
        "import asyncio\n",
        "import nest_asyncio\n",
        "import time\n",
        "import cv2\n",
        "import random\n",
        "from datetime import datetime\n",
        "import gspread\n",
        "from google.oauth2.service_account import Credentials"
      ]
    },
    {
      "cell_type": "code",
      "source": [
        "# DATA\n",
        "test_img_path=\"/content/face_27.jpg\"\n",
        "pretrained_model='/content/drive/MyDrive/Sem-VI Term Project/Face/face_recognition_model.h5'\n",
        "extracted_faces='/content/extracted'\n",
        "\n",
        "# TELEGRAM\n",
        "bot_token = '7146124828:AAGhgu_ZWZ-y7ObNXbgal-mFS1Y-RHObSY8'\n",
        "user_chat_id = ['1953374962','661067276','868836142'] # Gaurang:1953374962 Meet:661067276 Viraj:868836142\n",
        "user_sel=1\n",
        "warn_msg=['[WARNING] Photo isn\\'t clear.']\n",
        "update_msg=['Updating google sheet...']\n",
        "\n",
        "# GOOGLE SHEET\n",
        "cred_file=\"/content/drive/MyDrive/Sem-VI Term Project/Face/credentials.json\"\n",
        "scopes = [\"https://www.googleapis.com/auth/spreadsheets\"]\n",
        "creds = Credentials.from_service_account_file(cred_file, scopes=scopes)\n",
        "client = gspread.authorize(creds)\n",
        "sheet_id = \"1HDq-JBpx3KvIj_S3YKmnelfzCtf-tUdPdo-RIHmjTmY\"\n",
        "\n",
        "\n",
        "# STUDENT DATA\n",
        "class_names = ['Dhruv', 'Gaurang', 'Meet', 'Viraj']\n",
        "student_id=['21ECUOS094','21ECUEG098','21ECUEG073','21ECUBG069']\n",
        "student_roll_no=['EC053','EC039','EC028','EC035']\n",
        "\n",
        "# HANDLES\n",
        "sheet = client.open_by_key(sheet_id)\n",
        "worksht = sheet.worksheet(\"Sheet1\")\n",
        "report_worksht=sheet.worksheet(\"Sheet2\")\n",
        "model = load_model(pretrained_model)\n",
        "\n"
      ],
      "metadata": {
        "id": "Dm8JY_tpBVcb"
      },
      "execution_count": null,
      "outputs": []
    },
    {
      "cell_type": "code",
      "source": [
        "def extract_faces(image_path, output_folder):\n",
        "\n",
        "    folder = output_folder\n",
        "    for filename in os.listdir(folder):\n",
        "        file_path = os.path.join(folder, filename)\n",
        "        try:\n",
        "            if os.path.isfile(file_path) or os.path.islink(file_path):\n",
        "                os.unlink(file_path)\n",
        "            elif os.path.isdir(file_path):\n",
        "                shutil.rmtree(file_path)\n",
        "        except Exception as e:\n",
        "            print('Failed to delete %s. Reason: %s' % (file_path, e))\n",
        "    # Load the pre-trained Haar Cascade classifier for face detection\n",
        "    face_cascade = cv2.CascadeClassifier(cv2.data.haarcascades + 'haarcascade_frontalface_default.xml')\n",
        "\n",
        "    # Read the input image\n",
        "    image = cv2.imread(image_path)\n",
        "\n",
        "    # Convert the image to grayscale\n",
        "    gray = cv2.cvtColor(image, cv2.COLOR_BGR2GRAY)\n",
        "\n",
        "    # Perform face detection\n",
        "    faces = face_cascade.detectMultiScale(gray, scaleFactor=1.1, minNeighbors=8, minSize=(30, 30))\n",
        "\n",
        "    # Extract faces from the image and save them to the output folder\n",
        "    extracted_faces = []\n",
        "    a=0\n",
        "    for i, (x, y, w, h) in enumerate(faces):\n",
        "        face = image[y:y+h, x:x+w]\n",
        "        extracted_faces.append(face)\n",
        "        # Save the extracted face to the output folder\n",
        "        temp_name=int(10000*random.random())\n",
        "        face_filename = os.path.join(output_folder, f'face_{a}.jpg')\n",
        "        cv2.imwrite(face_filename, face)\n",
        "        print(f\"Face {a} saved to {face_filename}\")\n",
        "        a=a+1\n",
        "\n",
        "image_path = test_img_path\n",
        "extract_faces(image_path,extracted_faces)"
      ],
      "metadata": {
        "id": "_DUzDCscBXRS",
        "colab": {
          "base_uri": "https://localhost:8080/"
        },
        "outputId": "5f164e1c-1d77-41a7-81ef-c5173c22f3b8"
      },
      "execution_count": null,
      "outputs": [
        {
          "output_type": "stream",
          "name": "stdout",
          "text": [
            "Face 0 saved to /content/extracted/face_0.jpg\n",
            "Face 1 saved to /content/extracted/face_1.jpg\n",
            "Face 2 saved to /content/extracted/face_2.jpg\n",
            "Face 3 saved to /content/extracted/face_3.jpg\n"
          ]
        }
      ]
    },
    {
      "cell_type": "code",
      "source": [
        "nest_asyncio.apply()\n",
        "\n",
        "mybot = Bot(token=bot_token)\n",
        "async def send_telegram_messages(msg_list,user_chat_id):\n",
        "        # Send the message\n",
        "    for i in range(len(msg_list)):\n",
        "        await mybot.send_message(chat_id=user_chat_id, text=msg_list[i])\n",
        "        # You can add a delay here if you want a gap between messages\n",
        "        await asyncio.sleep(1)  # Adjust the sleep duration as needed"
      ],
      "metadata": {
        "id": "xSeVKaD3ydvT"
      },
      "execution_count": null,
      "outputs": []
    },
    {
      "cell_type": "code",
      "source": [
        "def process_images(image_folder):\n",
        "    process_msgs = []\n",
        "    avg_acc=0\n",
        "    count=0\n",
        "    for filename in os.listdir(image_folder):\n",
        "        if filename.endswith('.jpg') or filename.endswith('.png'):\n",
        "            img_path = os.path.join(image_folder, filename)\n",
        "            img = image.load_img(img_path, target_size=(256, 256))\n",
        "            img_array = image.img_to_array(img)\n",
        "            img_array = np.expand_dims(img_array, axis=0) / 255.0  # Normalize the image data\n",
        "\n",
        "            predictions = model.predict(img_array)\n",
        "            predicted_class_index = np.argmax(predictions[0])\n",
        "            predicted_class_label = class_names[predicted_class_index]\n",
        "\n",
        "            print(filename)\n",
        "            print(class_names)\n",
        "            print(predictions[0])\n",
        "            print(predicted_class_label)\n",
        "            if(predictions[0][predicted_class_index]>=0.8):\n",
        "                avg_acc=avg_acc+max(predictions[0])\n",
        "                count=count+1\n",
        "                process_msgs.append(student_id[predicted_class_index]+'--'+\n",
        "                                    student_roll_no[predicted_class_index]+'--'+\n",
        "                                    predicted_class_label)\n",
        "    return process_msgs,(avg_acc/count)\n"
      ],
      "metadata": {
        "id": "GLgH0kRcBfFE"
      },
      "execution_count": null,
      "outputs": []
    },
    {
      "cell_type": "code",
      "source": [
        "att_msg,avg_acc=process_images(extracted_faces)"
      ],
      "metadata": {
        "colab": {
          "base_uri": "https://localhost:8080/"
        },
        "id": "7JUMTAoN0pNI",
        "outputId": "5d972414-bdc9-4957-f73b-dbc27ee767b0"
      },
      "execution_count": null,
      "outputs": [
        {
          "output_type": "stream",
          "name": "stdout",
          "text": [
            "1/1 [==============================] - 0s 347ms/step\n",
            "face_1.jpg\n",
            "['Dhruv', 'Gaurang', 'Meet', 'Viraj']\n",
            "[5.2911323e-06 9.9984419e-01 1.4749327e-04 3.1410866e-06]\n",
            "Gaurang\n",
            "1/1 [==============================] - 0s 193ms/step\n",
            "face_3.jpg\n",
            "['Dhruv', 'Gaurang', 'Meet', 'Viraj']\n",
            "[2.8323399e-10 6.4623326e-01 3.5376668e-01 2.2223830e-10]\n",
            "Gaurang\n",
            "1/1 [==============================] - 0s 117ms/step\n",
            "face_2.jpg\n",
            "['Dhruv', 'Gaurang', 'Meet', 'Viraj']\n",
            "[4.5477258e-04 2.7206388e-05 9.9951613e-01 1.9017815e-06]\n",
            "Meet\n",
            "1/1 [==============================] - 0s 113ms/step\n",
            "face_0.jpg\n",
            "['Dhruv', 'Gaurang', 'Meet', 'Viraj']\n",
            "[1.2722079e-03 5.8729071e-03 9.9250692e-01 3.4794642e-04]\n",
            "Meet\n"
          ]
        }
      ]
    },
    {
      "cell_type": "code",
      "source": [
        "current_time = datetime.now()\n",
        "print(avg_acc)\n",
        "print(att_msg)\n",
        "att_msg=list(set(att_msg))\n",
        "print(att_msg)\n",
        "split_list = [item.split('--') for item in att_msg]\n",
        "print('---------')\n",
        "print(split_list)\n"
      ],
      "metadata": {
        "colab": {
          "base_uri": "https://localhost:8080/"
        },
        "id": "6-rc75XXHsGG",
        "outputId": "0b43293f-0bf7-48f5-aa2f-482ed36326d5"
      },
      "execution_count": null,
      "outputs": [
        {
          "output_type": "stream",
          "name": "stdout",
          "text": [
            "0.9972890814145406\n",
            "['21ECUEG098--EC039--Gaurang', '21ECUEG073--EC028--Meet', '21ECUEG073--EC028--Meet']\n",
            "['21ECUEG073--EC028--Meet', '21ECUEG098--EC039--Gaurang']\n",
            "---------\n",
            "[['21ECUEG073', 'EC028', 'Meet'], ['21ECUEG098', 'EC039', 'Gaurang']]\n"
          ]
        }
      ]
    },
    {
      "cell_type": "code",
      "source": [
        "asyncio.run(send_telegram_messages(['-----------Attendance Report-----------',\n",
        "                                    'Date and time: ' + str(current_time)],\n",
        "                                   user_chat_id[user_sel]))"
      ],
      "metadata": {
        "id": "5chwTg5SKuuP"
      },
      "execution_count": null,
      "outputs": []
    },
    {
      "cell_type": "code",
      "source": [
        "current_time = datetime.now()\n",
        "if(avg_acc>=0.94):\n",
        "  asyncio.run(send_telegram_messages(att_msg,user_chat_id[user_sel]))\n",
        "  asyncio.run(send_telegram_messages(['Updating google sheet...'],user_chat_id[user_sel]))\n",
        "  last_row = len(worksht.col_values(1)) + 1\n",
        "  current_date = datetime.now().strftime('%Y-%m-%d')\n",
        "  current_time = datetime.now().strftime('%H:%M:%S')\n",
        "\n",
        "  sheet_data = split_list\n",
        "\n",
        "  # Find the last row with data in column A\n",
        "  last_row = len(worksht.col_values(1)) + 1\n",
        "\n",
        "  for row in sheet_data:\n",
        "      # Update date and time values\n",
        "      worksht.update('A{}'.format(last_row), [[current_date]])\n",
        "      worksht.update('B{}'.format(last_row), [[current_time]])\n",
        "      # Update ID, roll no, and name values\n",
        "      worksht.update('C{}'.format(last_row), [[row[0]]])\n",
        "      worksht.update('D{}'.format(last_row), [[row[1]]])\n",
        "      worksht.update('E{}'.format(last_row), [[row[2]]])\n",
        "      # Move to the next row\n",
        "      last_row += 1\n",
        "  asyncio.run(send_telegram_messages(['Done!!!'],user_chat_id[user_sel]))\n",
        "\n",
        "\n",
        "else:\n",
        "  asyncio.run(send_telegram_messages(warn_msg,user_chat_id[user_sel]))"
      ],
      "metadata": {
        "id": "R_BhtaP5KSvj"
      },
      "execution_count": null,
      "outputs": []
    },
    {
      "cell_type": "code",
      "source": [
        "cell_range = 'D3:D6'\n",
        "cell_values = report_worksht.get(cell_range)\n",
        "ratt_percentage = [value[0] for value in cell_values]\n",
        "cell_range = 'A3:A6'\n",
        "cell_values = report_worksht.get(cell_range)\n",
        "ratt_id = [value[0] for value in cell_values]\n",
        "\n",
        "detained_stdid = []\n",
        "for i, percentage in enumerate(ratt_percentage):\n",
        "    if float(percentage) < 75:\n",
        "        # If the attendance percentage is less than 75, add the corresponding ID to detained_stdid list\n",
        "        detained_stdid.append(ratt_id[i])\n",
        "\n",
        "# Print the detained student IDs\n",
        "print(\"------Likely to be detained-----\")\n",
        "detained_email = []\n",
        "for student_id in detained_stdid:\n",
        "    email = student_id + '@ddu.ac.in'\n",
        "    detained_email.append(email)\n",
        "\n",
        "print(detained_email)\n",
        "\n",
        "detain_msg=['--------Overall Attendance Report--------',\n",
        "            'Following Student(s) have less than 75% attendance.']\n",
        "combined_list = []\n",
        "\n",
        "# Iterate over both detained_stdid and detained_email simultaneously\n",
        "for i in range(len(detained_stdid)):\n",
        "    combined_element = \"{}. {} {{{}}}\".format(i+1, detained_stdid[i], detained_email[i])\n",
        "    combined_list.append(combined_element)\n",
        "\n",
        "print(combined_list)\n",
        "\n",
        "asyncio.run(send_telegram_messages(detain_msg,user_chat_id[user_sel]))\n",
        "asyncio.run(send_telegram_messages(combined_list,user_chat_id[user_sel]))"
      ],
      "metadata": {
        "colab": {
          "base_uri": "https://localhost:8080/"
        },
        "id": "Ds-vVvy_TEbA",
        "outputId": "08bff3e0-fdc7-41fc-9acf-3424208c5480"
      },
      "execution_count": null,
      "outputs": [
        {
          "output_type": "stream",
          "name": "stdout",
          "text": [
            "------Likely to be detained-----\n",
            "['21ECUBG069@ddu.ac.in', '21ECUOS094@ddu.ac.in']\n",
            "['1. 21ECUBG069 {21ECUBG069@ddu.ac.in}', '2. 21ECUOS094 {21ECUOS094@ddu.ac.in}']\n"
          ]
        }
      ]
    }
  ]
}