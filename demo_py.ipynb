{
  "nbformat": 4,
  "nbformat_minor": 0,
  "metadata": {
    "colab": {
      "provenance": [],
      "authorship_tag": "ABX9TyOF/3py3kpWIWAL0klNsCfT",
      "include_colab_link": true
    },
    "kernelspec": {
      "name": "python3",
      "display_name": "Python 3"
    },
    "language_info": {
      "name": "python"
    }
  },
  "cells": [
    {
      "cell_type": "markdown",
      "metadata": {
        "id": "view-in-github",
        "colab_type": "text"
      },
      "source": [
        "<a href=\"https://colab.research.google.com/github/Gaurangvasiyar/new_demo1/blob/main/demo_py.ipynb\" target=\"_parent\"><img src=\"https://colab.research.google.com/assets/colab-badge.svg\" alt=\"Open In Colab\"/></a>"
      ]
    },
    {
      "cell_type": "code",
      "execution_count": null,
      "metadata": {
        "id": "4QInA0wHZria",
        "outputId": "9b3bd99a-bce1-4ef0-e31f-32c4ed74aa31",
        "colab": {
          "base_uri": "https://localhost:8080/"
        }
      },
      "outputs": [
        {
          "output_type": "stream",
          "name": "stdout",
          "text": [
            "hi\n"
          ]
        }
      ],
      "source": [
        "# Inline Comment to calculate sum of 2 numbers\n",
        "def fun(a, b):\n",
        "  return a + b\n",
        "print(\"hi\")"
      ]
    },
    {
      "cell_type": "code",
      "source": [
        "# Multiline\n",
        "# Comment\n",
        "# Function to calculate\n",
        "# sum of 2 numbers\n",
        "'''\n",
        "This is a function\n",
        "to find sum\n",
        "of 2 numbers.\n",
        "This is an example of\n",
        "docstring comment'''\n",
        "def fun(a, b):\n",
        "  return a + b\n",
        "\n",
        "print(fun(4,5))"
      ],
      "metadata": {
        "id": "KJdhykA_fNtT",
        "outputId": "3ceda727-7902-4ed2-8f67-a56b329217cc",
        "colab": {
          "base_uri": "https://localhost:8080/"
        }
      },
      "execution_count": 6,
      "outputs": [
        {
          "output_type": "stream",
          "name": "stdout",
          "text": [
            "9\n"
          ]
        }
      ]
    },
    {
      "cell_type": "code",
      "source": [
        "print(\"Hello World\")\n",
        "var = \"Interviewbit\"\n",
        "print(\"My name is \", var)\n",
        "print(\"My name is \" + var)\n",
        "print(123)\n",
        "a = [1, 2, 3, 4]\n",
        "print(a)"
      ],
      "metadata": {
        "id": "wuTrcSOKflj-",
        "outputId": "7773be27-e75b-4e18-9ddd-04455a9c2fb3",
        "colab": {
          "base_uri": "https://localhost:8080/"
        }
      },
      "execution_count": 7,
      "outputs": [
        {
          "output_type": "stream",
          "name": "stdout",
          "text": [
            "Hello World\n",
            "My name is  Interviewbit\n",
            "My name is Interviewbit\n",
            "123\n",
            "[1, 2, 3, 4]\n"
          ]
        }
      ]
    },
    {
      "cell_type": "code",
      "source": [
        "print('Enter your name.')\n",
        "myName = input()\n",
        "print('Hello, {}'.format(myName))"
      ],
      "metadata": {
        "id": "75rX_PUVfzmz",
        "outputId": "b144f31e-8788-4b42-c221-b333efda472a",
        "colab": {
          "base_uri": "https://localhost:8080/"
        }
      },
      "execution_count": 9,
      "outputs": [
        {
          "output_type": "stream",
          "name": "stdout",
          "text": [
            "Enter your name.\n",
            "Gaurang vasiyar\n",
            "Hello, Gaurang vasiyar\n"
          ]
        }
      ]
    },
    {
      "cell_type": "code",
      "source": [
        "# For List\n",
        "a = [1, 2, 3]\n",
        "print(len(a))\n",
        "# For string\n",
        "a = \"hello\"\n",
        "print(len(a))\n",
        "# For tuple\n",
        "a = ('1', '2', '3')\n",
        "print(len(a))"
      ],
      "metadata": {
        "id": "ssUO1PyEf0PG",
        "outputId": "52ab8383-8064-45fe-9fff-451afc2f8e96",
        "colab": {
          "base_uri": "https://localhost:8080/"
        }
      },
      "execution_count": 10,
      "outputs": [
        {
          "output_type": "stream",
          "name": "stdout",
          "text": [
            "3\n",
            "5\n",
            "3\n"
          ]
        }
      ]
    },
    {
      "cell_type": "code",
      "source": [
        "#Print unicode of 'A'\n",
        "print(ord('A'))\n",
        "# Print unicode of '5'\n",
        "print(ord('5'))\n",
        "# Print unicode of '$'\n",
        "print(ord('$'))\n"
      ],
      "metadata": {
        "id": "BA-kgX2Ff3XL",
        "outputId": "d0975137-93ef-401e-b44a-d31c070bbb1f",
        "colab": {
          "base_uri": "https://localhost:8080/"
        }
      },
      "execution_count": 11,
      "outputs": [
        {
          "output_type": "stream",
          "name": "stdout",
          "text": [
            "65\n",
            "53\n",
            "36\n"
          ]
        }
      ]
    },
    {
      "cell_type": "code",
      "source": [
        "int_num = 100\n",
        "float_num = 1.01\n",
        "ans = int_num + float_num\n",
        "print(type(int_num))\n",
        "print(type(float_num))\n",
        "# ans is implicitly typecasted to float type for greater precision\n",
        "print(type(ans))\n"
      ],
      "metadata": {
        "id": "4QA7P-1Gf_7H",
        "outputId": "c4ff7616-5936-42db-c728-60e660b0def7",
        "colab": {
          "base_uri": "https://localhost:8080/"
        }
      },
      "execution_count": 12,
      "outputs": [
        {
          "output_type": "stream",
          "name": "stdout",
          "text": [
            "<class 'int'>\n",
            "<class 'float'>\n",
            "<class 'float'>\n"
          ]
        }
      ]
    },
    {
      "cell_type": "code",
      "source": [
        "var = 123\n",
        "str(var)\n",
        "var = 123\n",
        "float(var)\n",
        "\n"
      ],
      "metadata": {
        "id": "Qm6GIeBJgIR4",
        "outputId": "637d86f9-4cd9-4c55-fbce-bc0ddea51b00",
        "colab": {
          "base_uri": "https://localhost:8080/"
        }
      },
      "execution_count": 14,
      "outputs": [
        {
          "output_type": "execute_result",
          "data": {
            "text/plain": [
              "123.0"
            ]
          },
          "metadata": {},
          "execution_count": 14
        }
      ]
    },
    {
      "cell_type": "code",
      "source": [
        "var = 7.8\n",
        "print(int(var))"
      ],
      "metadata": {
        "id": "cfng5MlJgMJH",
        "outputId": "e88a7b7a-120f-4e41-9d87-dc811eebdc38",
        "colab": {
          "base_uri": "https://localhost:8080/"
        }
      },
      "execution_count": 15,
      "outputs": [
        {
          "output_type": "stream",
          "name": "stdout",
          "text": [
            "7\n"
          ]
        }
      ]
    },
    {
      "cell_type": "code",
      "source": [
        "# and operator\n",
        "print(True and False)\n",
        "False\n",
        "# or operator\n",
        "print(True or False)\n",
        "True\n",
        "# not operator\n",
        "print(not False)\n",
        "True"
      ],
      "metadata": {
        "id": "NS2jnf7kgcMP",
        "outputId": "064258e0-c699-46b8-edb6-e149068ca159",
        "colab": {
          "base_uri": "https://localhost:8080/"
        }
      },
      "execution_count": 17,
      "outputs": [
        {
          "output_type": "stream",
          "name": "stdout",
          "text": [
            "False\n",
            "True\n",
            "True\n"
          ]
        },
        {
          "output_type": "execute_result",
          "data": {
            "text/plain": [
              "True"
            ]
          },
          "metadata": {},
          "execution_count": 17
        }
      ]
    },
    {
      "cell_type": "code",
      "source": [
        "var = \"Good\"\n",
        "if var != \"Good\":\n",
        "    print(\"Not Same\")\n",
        "else:\n",
        "    print(\"Same\")\n"
      ],
      "metadata": {
        "id": "fyxn4f-Rgmic",
        "outputId": "33b41c08-0851-48b1-d689-876730e1ff84",
        "colab": {
          "base_uri": "https://localhost:8080/"
        }
      },
      "execution_count": 18,
      "outputs": [
        {
          "output_type": "stream",
          "name": "stdout",
          "text": [
            "Same\n"
          ]
        }
      ]
    },
    {
      "cell_type": "code",
      "source": [
        "for i in range(5):\n",
        "    print(i)"
      ],
      "metadata": {
        "id": "kkoYk_hsgsFl",
        "outputId": "c410f101-7f8c-453e-c670-ce8c8b9d96dc",
        "colab": {
          "base_uri": "https://localhost:8080/"
        }
      },
      "execution_count": 19,
      "outputs": [
        {
          "output_type": "stream",
          "name": "stdout",
          "text": [
            "0\n",
            "1\n",
            "2\n",
            "3\n",
            "4\n"
          ]
        }
      ]
    },
    {
      "cell_type": "code",
      "source": [
        "for i in range(2, 10, 2):\n",
        "    print(i)"
      ],
      "metadata": {
        "id": "aDyrsGsHgsv4",
        "outputId": "e5401c1c-2502-4933-96f7-59466cab8ab0",
        "colab": {
          "base_uri": "https://localhost:8080/"
        }
      },
      "execution_count": 20,
      "outputs": [
        {
          "output_type": "stream",
          "name": "stdout",
          "text": [
            "2\n",
            "4\n",
            "6\n",
            "8\n"
          ]
        }
      ]
    },
    {
      "cell_type": "code",
      "source": [
        "a = [1, 3, 5, 7]\n",
        "for ele in a:\n",
        "    print(ele)\n"
      ],
      "metadata": {
        "id": "56xpRWjDgyVz",
        "outputId": "4d9840ad-3f8c-46d7-e1f4-a17adc4603cb",
        "colab": {
          "base_uri": "https://localhost:8080/"
        }
      },
      "execution_count": 21,
      "outputs": [
        {
          "output_type": "stream",
          "name": "stdout",
          "text": [
            "1\n",
            "3\n",
            "5\n",
            "7\n"
          ]
        }
      ]
    },
    {
      "cell_type": "code",
      "source": [
        "count = 5\n",
        "while count > 0:\n",
        "    print(count)\n",
        "    count -= 1\n"
      ],
      "metadata": {
        "id": "qyR8ELQfg2Fq",
        "outputId": "edb89304-e9d6-41bd-f496-59119fd3e607",
        "colab": {
          "base_uri": "https://localhost:8080/"
        }
      },
      "execution_count": 22,
      "outputs": [
        {
          "output_type": "stream",
          "name": "stdout",
          "text": [
            "5\n",
            "4\n",
            "3\n",
            "2\n",
            "1\n"
          ]
        }
      ]
    },
    {
      "cell_type": "code",
      "source": [
        "for i in range(5):\n",
        "    print(i)\n",
        "    if i == 3:\n",
        "        break"
      ],
      "metadata": {
        "id": "mAQCOdawg5H7",
        "outputId": "66544f93-4c31-4d95-b013-6b6730615605",
        "colab": {
          "base_uri": "https://localhost:8080/"
        }
      },
      "execution_count": 23,
      "outputs": [
        {
          "output_type": "stream",
          "name": "stdout",
          "text": [
            "0\n",
            "1\n",
            "2\n",
            "3\n"
          ]
        }
      ]
    },
    {
      "cell_type": "code",
      "source": [
        "for i in range(5):\n",
        "    if i == 3:\n",
        "        continue\n",
        "    print(i)\n"
      ],
      "metadata": {
        "id": "gDD73sE5g8Il",
        "outputId": "fab7b85d-0e06-4f25-deb4-a4618f711f19",
        "colab": {
          "base_uri": "https://localhost:8080/"
        }
      },
      "execution_count": 24,
      "outputs": [
        {
          "output_type": "stream",
          "name": "stdout",
          "text": [
            "0\n",
            "1\n",
            "2\n",
            "4\n"
          ]
        }
      ]
    },
    {
      "cell_type": "code",
      "source": [
        "for i in range(5):\n",
        "if i % 2 == 0:\n",
        "pass\n",
        "else:\n",
        "print(i)"
      ],
      "metadata": {
        "id": "bR3_4kQ4g_Du"
      },
      "execution_count": null,
      "outputs": []
    },
    {
      "cell_type": "code",
      "source": [
        "def func(x):\n",
        "    if x == 'Hello':\n",
        "        return True\n",
        "    else:\n",
        "        return False\n",
        "print(func('hello'))"
      ],
      "metadata": {
        "id": "rfhzW5ecg_wz",
        "outputId": "c015d7a7-a920-466c-aeb8-79c1be05fa75",
        "colab": {
          "base_uri": "https://localhost:8080/"
        }
      },
      "execution_count": 27,
      "outputs": [
        {
          "output_type": "stream",
          "name": "stdout",
          "text": [
            "False\n"
          ]
        }
      ]
    },
    {
      "cell_type": "code",
      "source": [
        "# Function to return sum of two numbers\n",
        "def getSum(a, b):\n",
        "    return a + b\n",
        "# Function to print sum of 2 numbers\n",
        "def printSum(a, b):\n",
        "    print(a + b)\n",
        "print(getSum(5, 6))\n",
        "printSum(5, 6)"
      ],
      "metadata": {
        "id": "QzlVBE5ThHx3",
        "outputId": "ac21c22b-ec1d-4dec-d7cb-566f6899f9cb",
        "colab": {
          "base_uri": "https://localhost:8080/"
        }
      },
      "execution_count": 28,
      "outputs": [
        {
          "output_type": "stream",
          "name": "stdout",
          "text": [
            "11\n",
            "11\n"
          ]
        }
      ]
    },
    {
      "cell_type": "code",
      "source": [
        "def func():\n",
        "    global value\n",
        "    value = \"Local\"\n",
        "value = \"Global\"\n",
        "func()\n",
        "print(value)"
      ],
      "metadata": {
        "id": "2hmoewnrhLjC",
        "outputId": "91b879b9-833b-40a6-a2a7-fba7e1dd0030",
        "colab": {
          "base_uri": "https://localhost:8080/"
        }
      },
      "execution_count": 29,
      "outputs": [
        {
          "output_type": "stream",
          "name": "stdout",
          "text": [
            "Local\n"
          ]
        }
      ]
    },
    {
      "cell_type": "code",
      "source": [
        "import math\n",
        "print(math.pi)"
      ],
      "metadata": {
        "id": "XPsxTVJ_hOSm",
        "outputId": "fa61182f-8cfa-4f81-bacd-0bd607d23dd9",
        "colab": {
          "base_uri": "https://localhost:8080/"
        }
      },
      "execution_count": 30,
      "outputs": [
        {
          "output_type": "stream",
          "name": "stdout",
          "text": [
            "3.141592653589793\n"
          ]
        }
      ]
    },
    {
      "cell_type": "code",
      "source": [
        "# divide(4, 2) will return 2 and print Division Complete\n",
        "# divide(4, 0) will print error and Division Complete\n",
        "# Finally block will be executed in all cases\n",
        "def divide(a, denominator):\n",
        "    try:\n",
        "        return a / denominator\n",
        "    except ZeroDivisionError as e:\n",
        "          print('Divide By Zero!! Terminate!!')\n",
        "    finally:\n",
        "          print('Division Complete.')\n",
        "\n",
        "divide(10,0)"
      ],
      "metadata": {
        "id": "dlM1-n8vhSbC",
        "outputId": "45918a63-9481-43b0-a5c0-62d9b8185cfd",
        "colab": {
          "base_uri": "https://localhost:8080/"
        }
      },
      "execution_count": 32,
      "outputs": [
        {
          "output_type": "stream",
          "name": "stdout",
          "text": [
            "Divide By Zero!! Terminate!!\n",
            "Division Complete.\n"
          ]
        }
      ]
    },
    {
      "cell_type": "code",
      "source": [
        "example = [\"Sunday\", \"Monday\", \"Tuesday\", \"Wednesday\"];\n",
        "# Positive Indexing\n",
        "print(example[0], example[1])\n",
        "# Negative Indexing\n",
        "print(example[-1])\n"
      ],
      "metadata": {
        "id": "sohmZSq_hTJn"
      },
      "execution_count": null,
      "outputs": []
    },
    {
      "cell_type": "code",
      "source": [
        "example = [\"Sunday\", \"Monday\", \"Tuesday\", \"Wednesday\"];\n",
        "example1 = [\"Weekdays\", \"Weekends\"]\n",
        "# Concatenation\n",
        "example = example + example1\n",
        "print(example)"
      ],
      "metadata": {
        "id": "LnJU3GAHhgn_",
        "outputId": "838f7cff-931b-489d-8b91-9427d26d9a94",
        "colab": {
          "base_uri": "https://localhost:8080/"
        }
      },
      "execution_count": 35,
      "outputs": [
        {
          "output_type": "stream",
          "name": "stdout",
          "text": [
            "['Sunday', 'Monday', 'Tuesday', 'Wednesday', 'Weekdays', 'Weekends']\n"
          ]
        }
      ]
    },
    {
      "cell_type": "code",
      "source": [
        "example = [\"Sunday\", \"Monday\", \"Tuesday\", \"Wednesday\"];\n",
        "example1 = [\"Weekdays\", \"Weekends\"]\n",
        "# Replication\n",
        "example1 = example1 * 3\n",
        "print(example1)\n"
      ],
      "metadata": {
        "id": "ul9NCV5Shpb2",
        "outputId": "4b0079d8-1653-4f82-9aca-038793b1e767",
        "colab": {
          "base_uri": "https://localhost:8080/"
        }
      },
      "execution_count": 34,
      "outputs": [
        {
          "output_type": "stream",
          "name": "stdout",
          "text": [
            "['Weekdays', 'Weekends', 'Weekdays', 'Weekends', 'Weekdays', 'Weekends']\n"
          ]
        }
      ]
    },
    {
      "cell_type": "code",
      "source": [
        "example = [\"Sunday\", \"Monday\", \"Tuesday\", \"Wednesday\"];\n",
        "print(example)\n",
        "del example[2]\n",
        "print(example)\n",
        "example.insert(1, 'Days')\n",
        "print(example)\n",
        "example.append('Days')\n",
        "print(example)\n"
      ],
      "metadata": {
        "id": "I6Q5jOCthtMK",
        "outputId": "ce9f00d3-76ac-404d-ff17-926ba517d383",
        "colab": {
          "base_uri": "https://localhost:8080/"
        }
      },
      "execution_count": 36,
      "outputs": [
        {
          "output_type": "stream",
          "name": "stdout",
          "text": [
            "['Sunday', 'Monday', 'Tuesday', 'Wednesday']\n",
            "['Sunday', 'Monday', 'Wednesday']\n",
            "['Sunday', 'Days', 'Monday', 'Wednesday']\n",
            "['Sunday', 'Days', 'Monday', 'Wednesday', 'Days']\n"
          ]
        }
      ]
    },
    {
      "cell_type": "code",
      "source": [
        "example = [\"Sunday\", \"Monday\", \"Tuesday\", \"Wednesday\"];\n",
        "for ex in example:\n",
        "    print(ex)"
      ],
      "metadata": {
        "id": "h7laJ612hzFQ",
        "outputId": "68972045-04c7-426f-cddc-3370af65928e",
        "colab": {
          "base_uri": "https://localhost:8080/"
        }
      },
      "execution_count": 37,
      "outputs": [
        {
          "output_type": "stream",
          "name": "stdout",
          "text": [
            "Sunday\n",
            "Monday\n",
            "Tuesday\n",
            "Wednesday\n"
          ]
        }
      ]
    },
    {
      "cell_type": "code",
      "source": [
        "# Sorts in lexicographical order\n",
        "example = [\"Sunday\", \"Monday\", \"Tuesday\", \"Wednesday\"];\n",
        "print(example)\n",
        "# Sort in ascending order\n",
        "example.sort()\n",
        "print(example)\n",
        "# Sort in descending order\n",
        "example.sort(reverse = True)\n",
        "print(example)\n",
        "example = [1, 5, 3, 7, 2]\n",
        "# Sort in ascending order\n",
        "example.sort()\n",
        "print(example)\n",
        "# Sort in descending order\n",
        "example.sort(reverse = True)\n",
        "print(example)"
      ],
      "metadata": {
        "id": "RGrYlUlYiBea",
        "outputId": "dff3b8db-3f8a-4301-dfa3-2d7f60102b95",
        "colab": {
          "base_uri": "https://localhost:8080/"
        }
      },
      "execution_count": 38,
      "outputs": [
        {
          "output_type": "stream",
          "name": "stdout",
          "text": [
            "['Sunday', 'Monday', 'Tuesday', 'Wednesday']\n",
            "['Monday', 'Sunday', 'Tuesday', 'Wednesday']\n",
            "['Wednesday', 'Tuesday', 'Sunday', 'Monday']\n",
            "[1, 2, 3, 5, 7]\n",
            "[7, 5, 3, 2, 1]\n"
          ]
        }
      ]
    },
    {
      "cell_type": "code",
      "source": [
        "# Defining and Initializing a tuple called example\n",
        "example = (\"First\", \"Second\", \"Third\", \"Fourth\")\n",
        "print(example)\n",
        "print(example[1:3])\n"
      ],
      "metadata": {
        "id": "RJ1cRBUIiKDY",
        "outputId": "0caf7cea-323a-47f9-a01f-240f48d0a9bb",
        "colab": {
          "base_uri": "https://localhost:8080/"
        }
      },
      "execution_count": 39,
      "outputs": [
        {
          "output_type": "stream",
          "name": "stdout",
          "text": [
            "('First', 'Second', 'Third', 'Fourth')\n",
            "('Second', 'Third')\n"
          ]
        }
      ]
    },
    {
      "cell_type": "code",
      "source": [
        "# Convert list to a tuple\n",
        "tuple(['first', 'second', 'third'])\n",
        "# Convert tuple to a list\n",
        "list(('first', 'second', 'third'))\n",
        "# Convert string to a list\n",
        "list(\"Scaler\")"
      ],
      "metadata": {
        "id": "_04c8x7IiOOP",
        "outputId": "401d5db4-71c2-4759-c34f-6f3e7adce776",
        "colab": {
          "base_uri": "https://localhost:8080/"
        }
      },
      "execution_count": 40,
      "outputs": [
        {
          "output_type": "execute_result",
          "data": {
            "text/plain": [
              "['S', 'c', 'a', 'l', 'e', 'r']"
            ]
          },
          "metadata": {},
          "execution_count": 40
        }
      ]
    },
    {
      "cell_type": "code",
      "source": [
        "dict = {'first' : 'sunday', 'second' : 'monday', 'third' : 'tuesday'}\n",
        "# dict.keys() method will print only the keys of the dictionary\n",
        "for key in dict.keys():\n",
        "    print(key)\n",
        "# dict.values() method will print only the values of the corressponding keys of the dic\n",
        "for value in dict.values():\n",
        "    print(value)\n",
        "for item in dict.items():\n",
        "    print(item)\n",
        "dict['fourth'] = 'wednesday'\n",
        "for item in dict.items():\n",
        "    print(item)\n",
        "del dict['third']\n",
        "for item in dict.items():\n",
        "    print(item)\n",
        "\n"
      ],
      "metadata": {
        "id": "99ptYdNUiRJ5",
        "outputId": "e4cf0d29-b898-441d-feb1-99dd0478e150",
        "colab": {
          "base_uri": "https://localhost:8080/"
        }
      },
      "execution_count": 42,
      "outputs": [
        {
          "output_type": "stream",
          "name": "stdout",
          "text": [
            "first\n",
            "second\n",
            "third\n",
            "sunday\n",
            "monday\n",
            "tuesday\n",
            "('first', 'sunday')\n",
            "('second', 'monday')\n",
            "('third', 'tuesday')\n",
            "('first', 'sunday')\n",
            "('second', 'monday')\n",
            "('third', 'tuesday')\n",
            "('fourth', 'wednesday')\n",
            "('first', 'sunday')\n",
            "('second', 'monday')\n",
            "('fourth', 'wednesday')\n"
          ]
        }
      ]
    },
    {
      "cell_type": "code",
      "source": [
        "dict1 = {'first' : 'sunday', 'second' : 'monday', 'third' : 'tuesday'}\n",
        "dict2 = {1: 3, 2: 4, 3: 5}\n",
        "dict1.update(dict2)\n",
        "print(dict1)"
      ],
      "metadata": {
        "id": "VmQiqpWhii9N",
        "outputId": "769f3f99-be6a-45b5-d2b0-095f8b504efe",
        "colab": {
          "base_uri": "https://localhost:8080/"
        }
      },
      "execution_count": 43,
      "outputs": [
        {
          "output_type": "stream",
          "name": "stdout",
          "text": [
            "{'first': 'sunday', 'second': 'monday', 'third': 'tuesday', 1: 3, 2: 4, 3: 5}\n"
          ]
        }
      ]
    },
    {
      "cell_type": "code",
      "source": [
        "s = {1, 2, 3}\n",
        "print(s)\n",
        "s = set([1, 2, 3])\n",
        "print(s)\n",
        "s = {1, 2, 3, 3, 2, 4, 5, 5}\n",
        "print(s)\n"
      ],
      "metadata": {
        "id": "ocFzZYfjilzP",
        "outputId": "89216d1f-8b54-4681-dea0-6af7d6533c43",
        "colab": {
          "base_uri": "https://localhost:8080/"
        }
      },
      "execution_count": 44,
      "outputs": [
        {
          "output_type": "stream",
          "name": "stdout",
          "text": [
            "{1, 2, 3}\n",
            "{1, 2, 3}\n",
            "{1, 2, 3, 4, 5}\n"
          ]
        }
      ]
    },
    {
      "cell_type": "code",
      "source": [
        "s = {1, 2, 3, 3, 2, 4, 5, 5}\n",
        "print(s)\n",
        "# Insert single element\n",
        "s.add(6)\n",
        "print(s)\n"
      ],
      "metadata": {
        "id": "j26kp5-Ripyg",
        "outputId": "3c7ddb59-487e-491c-dbd4-085753eb822f",
        "colab": {
          "base_uri": "https://localhost:8080/"
        }
      },
      "execution_count": 45,
      "outputs": [
        {
          "output_type": "stream",
          "name": "stdout",
          "text": [
            "{1, 2, 3, 4, 5}\n",
            "{1, 2, 3, 4, 5, 6}\n"
          ]
        }
      ]
    },
    {
      "cell_type": "code",
      "source": [
        "\n",
        "s = {1, 2, 3, 3, 2, 4, 5, 5}\n",
        "# Insert multiple elements\n",
        "s.update([6, 7, 8])\n",
        "print(s)"
      ],
      "metadata": {
        "id": "uu8_ir5divZY",
        "outputId": "b7f0ff04-094c-4037-a46e-0537fcf71ec5",
        "colab": {
          "base_uri": "https://localhost:8080/"
        }
      },
      "execution_count": 48,
      "outputs": [
        {
          "output_type": "stream",
          "name": "stdout",
          "text": [
            "{1, 2, 3, 4, 5, 6, 7, 8}\n"
          ]
        }
      ]
    },
    {
      "cell_type": "code",
      "source": [
        "\n",
        "s = {1, 2, 3, 3, 2, 4, 5, 5}\n",
        "print(s)\n",
        "# Remove will raise an error if the element is not in the set\n",
        "s.remove(4)\n",
        "print(s)\n",
        "# Discard doesn't raise any errors\n",
        "s.discard(1)\n",
        "print(s)"
      ],
      "metadata": {
        "id": "c70sy5m_i0Kw",
        "outputId": "ddb1e736-d833-4a4b-d8ad-a51c4f6adbd2",
        "colab": {
          "base_uri": "https://localhost:8080/"
        }
      },
      "execution_count": 49,
      "outputs": [
        {
          "output_type": "stream",
          "name": "stdout",
          "text": [
            "{1, 2, 3, 4, 5}\n",
            "{1, 2, 3, 5}\n",
            "{2, 3, 5}\n"
          ]
        }
      ]
    },
    {
      "cell_type": "code",
      "source": [
        "\n",
        "a = {1, 2, 3, 3, 2, 4, 5, 5}\n",
        "b = {4, 6, 7, 9, 3}\n",
        "# Performs the Intersection of 2 sets and prints them\n",
        "print(a & b)\n",
        "# Performs the Union of 2 sets and prints them\n",
        "print(a | b)\n",
        "# Performs the Difference of 2 sets and prints them\n",
        "print(a - b)\n",
        "# Performs the Symmetric Difference of 2 sets and prints them\n",
        "print(a ^ b)\n"
      ],
      "metadata": {
        "id": "pwkfPKT2i9dV",
        "outputId": "f0376211-42e4-4ccc-9cd6-75f95623e5d7",
        "colab": {
          "base_uri": "https://localhost:8080/"
        }
      },
      "execution_count": 50,
      "outputs": [
        {
          "output_type": "stream",
          "name": "stdout",
          "text": [
            "{3, 4}\n",
            "{1, 2, 3, 4, 5, 6, 7, 9}\n",
            "{1, 2, 5}\n",
            "{1, 2, 5, 6, 7, 9}\n"
          ]
        }
      ]
    },
    {
      "cell_type": "code",
      "source": [
        "a = [0, 1, 2, 3]\n",
        "# b will store values which are 1 greater than the values stored in a\n",
        "b = [i + 1 for i in a]\n",
        "print(b)\n"
      ],
      "metadata": {
        "id": "L5Jc4_ZZjBXE",
        "outputId": "5aefcf26-dc26-47c2-9417-62f1980e9396",
        "colab": {
          "base_uri": "https://localhost:8080/"
        }
      },
      "execution_count": 51,
      "outputs": [
        {
          "output_type": "stream",
          "name": "stdout",
          "text": [
            "[1, 2, 3, 4]\n"
          ]
        }
      ]
    },
    {
      "cell_type": "code",
      "source": [
        "a = {0, 1, 2, 3}\n",
        "# b will store squares of the elements of a\n",
        "b = {i ** 2 for i in a}\n",
        "print(b)"
      ],
      "metadata": {
        "id": "QOQCsDdujFER",
        "outputId": "c0dc6898-99c2-4477-cd72-e5aebacebe0a",
        "colab": {
          "base_uri": "https://localhost:8080/"
        }
      },
      "execution_count": 52,
      "outputs": [
        {
          "output_type": "stream",
          "name": "stdout",
          "text": [
            "{0, 1, 4, 9}\n"
          ]
        }
      ]
    },
    {
      "cell_type": "code",
      "source": [
        "a = {'Hello':'World', 'First': 1}\n",
        "# b stores elements of a in value-key pair format\n",
        "b = {val: k for k , val in a.items()}\n",
        "print(b)"
      ],
      "metadata": {
        "id": "qSY5cfLhjJGP",
        "outputId": "2080be02-d1be-41eb-bf0e-063328124d83",
        "colab": {
          "base_uri": "https://localhost:8080/"
        }
      },
      "execution_count": 53,
      "outputs": [
        {
          "output_type": "stream",
          "name": "stdout",
          "text": [
            "{'World': 'Hello', 1: 'First'}\n"
          ]
        }
      ]
    },
    {
      "cell_type": "code",
      "source": [
        "a = \"Hello\"\n",
        "print(a)\n",
        "# Converts string to uppercase\n",
        "print(a.upper())\n",
        "# Converts string to lowercase\n",
        "print(a.lower())\n",
        "# Checks if string is uppercase\n",
        "print(a.isupper())\n",
        "# Checks if string is lowercase\n",
        "print(a.islower())\n"
      ],
      "metadata": {
        "id": "KT8W6GY6jOtI",
        "outputId": "3803bf46-c4da-4b40-b9f7-a3915896d3b6",
        "colab": {
          "base_uri": "https://localhost:8080/"
        }
      },
      "execution_count": 54,
      "outputs": [
        {
          "output_type": "stream",
          "name": "stdout",
          "text": [
            "Hello\n",
            "HELLO\n",
            "hello\n",
            "False\n",
            "False\n"
          ]
        }
      ]
    },
    {
      "cell_type": "code",
      "source": [
        "list = [\"One\", \"Two\", \"Three\"]\n",
        "# join function\n",
        "s = ','.join(list)\n",
        "print(s)\n"
      ],
      "metadata": {
        "id": "XY5zeLqjjUBB",
        "outputId": "8d1276bf-061b-4587-d2f8-df35a73af0b1",
        "colab": {
          "base_uri": "https://localhost:8080/"
        }
      },
      "execution_count": 55,
      "outputs": [
        {
          "output_type": "stream",
          "name": "stdout",
          "text": [
            "One,Two,Three\n"
          ]
        }
      ]
    },
    {
      "cell_type": "code",
      "source": [
        "# split function\n",
        "newList = s.split(',')\n",
        "print(newList)"
      ],
      "metadata": {
        "id": "pWhUznoSjWd5",
        "outputId": "9b15eec3-871a-43f1-968c-f3ed96759d36",
        "colab": {
          "base_uri": "https://localhost:8080/"
        }
      },
      "execution_count": 56,
      "outputs": [
        {
          "output_type": "stream",
          "name": "stdout",
          "text": [
            "['One', 'Two', 'Three']\n"
          ]
        }
      ]
    },
    {
      "cell_type": "code",
      "source": [
        "first = \"first\"\n",
        "second = \"second\"\n",
        "s = \"Sunday is the {} day of the week, whereas Monday is the {} day of the week\".format(first,second)\n",
        "print(s)"
      ],
      "metadata": {
        "id": "eYR5y9_ujZW-",
        "outputId": "b3f9aefd-4bc4-4b44-ad9e-35939b541fdd",
        "colab": {
          "base_uri": "https://localhost:8080/"
        }
      },
      "execution_count": 61,
      "outputs": [
        {
          "output_type": "stream",
          "name": "stdout",
          "text": [
            "Sunday is the first day of the week, whereas Monday is the second day of the week\n"
          ]
        }
      ]
    },
    {
      "cell_type": "code",
      "source": [
        "from string import Template\n",
        "name = 'Scaler'\n",
        "t = Template('Hey $name!')\n",
        "t.substitute(name = name)"
      ],
      "metadata": {
        "id": "WP7hTEY_jdRj",
        "outputId": "4d64ea12-729f-4b06-b76d-58914b66795c",
        "colab": {
          "base_uri": "https://localhost:8080/",
          "height": 36
        }
      },
      "execution_count": 60,
      "outputs": [
        {
          "output_type": "execute_result",
          "data": {
            "text/plain": [
              "'Hey Scaler!'"
            ],
            "application/vnd.google.colaboratory.intrinsic+json": {
              "type": "string"
            }
          },
          "metadata": {},
          "execution_count": 60
        }
      ]
    },
    {
      "cell_type": "code",
      "source": [
        "import datetime\n",
        "tm = datetime.time(1, 30, 11, 22)\n",
        "print(tm)"
      ],
      "metadata": {
        "id": "x73ErWbMjiSS",
        "outputId": "cfed5c23-96eb-42ce-c783-10b78508aa80",
        "colab": {
          "base_uri": "https://localhost:8080/"
        }
      },
      "execution_count": 62,
      "outputs": [
        {
          "output_type": "stream",
          "name": "stdout",
          "text": [
            "01:30:11.000022\n"
          ]
        }
      ]
    },
    {
      "cell_type": "code",
      "source": [
        "from datetime import datetime\n",
        "print(datetime.strptime('15/11/2000', '%d/%m/%Y'))"
      ],
      "metadata": {
        "id": "2RGAbnfwjq6w",
        "outputId": "57aa37a6-675b-4fad-838c-9cb01320565a",
        "colab": {
          "base_uri": "https://localhost:8080/"
        }
      },
      "execution_count": 63,
      "outputs": [
        {
          "output_type": "stream",
          "name": "stdout",
          "text": [
            "2000-11-15 00:00:00\n"
          ]
        }
      ]
    },
    {
      "cell_type": "code",
      "source": [
        "from time import gmtime, strftime\n",
        "s = strftime(\"%a, %d %b %Y %H:%M:%S + 1010\", gmtime())\n",
        "print(s)\n"
      ],
      "metadata": {
        "id": "JRvNP9Ynjulu",
        "outputId": "9aa7684e-6f5f-4762-e509-f7c03d105144",
        "colab": {
          "base_uri": "https://localhost:8080/"
        }
      },
      "execution_count": 64,
      "outputs": [
        {
          "output_type": "stream",
          "name": "stdout",
          "text": [
            "Mon, 13 May 2024 06:34:45 + 1010\n"
          ]
        }
      ]
    },
    {
      "cell_type": "code",
      "source": [
        "import re\n",
        "landline = re.compile(r'\\d\\d\\d\\d-\\d\\d\\d\\d')\n",
        "num = landline.search('LandLine Number is 2435-4153')\n",
        "print('Landline Number is: {}'.format(num.group()))"
      ],
      "metadata": {
        "id": "-fWnKpBejyKJ",
        "outputId": "57728cec-5e21-4650-c0fd-311e076fe47e",
        "colab": {
          "base_uri": "https://localhost:8080/"
        }
      },
      "execution_count": 65,
      "outputs": [
        {
          "output_type": "stream",
          "name": "stdout",
          "text": [
            "Landline Number is: 2435-4153\n"
          ]
        }
      ]
    },
    {
      "cell_type": "code",
      "source": [
        "import re\n",
        "landline = re.compile(r'(\\d\\d\\d\\d)-(\\d\\d\\d\\d)')\n",
        "num = landline.search('LandLine Number is 2435-4153')\n",
        "# This will print the first group, which is the entire regex enclosed in the brackets\n",
        "print(num.group(0))\n",
        "# This will print the second group, which is the nested regex enclosed in the 1st set o\n",
        "print(num.group(1))\n",
        "# This will print the third group, which is the nested regex enclosed in the 2nd set of\n",
        "print(num.group(2))"
      ],
      "metadata": {
        "id": "jIc16JVuj1yS",
        "outputId": "2ba6e7e7-fe37-4ac6-8a63-a87e87c775d6",
        "colab": {
          "base_uri": "https://localhost:8080/"
        }
      },
      "execution_count": 66,
      "outputs": [
        {
          "output_type": "stream",
          "name": "stdout",
          "text": [
            "2435-4153\n",
            "2435\n",
            "4153\n"
          ]
        }
      ]
    },
    {
      "cell_type": "code",
      "source": [
        "import traceback\n",
        "try:\n",
        "    raise Exception('Error Message.')\n",
        "except:\n",
        "      with open('error.txt', 'w') as error_file:\n",
        "            error_file.write(traceback.format_exc())\n",
        "print('The traceback info was written to error.txt.')\n"
      ],
      "metadata": {
        "id": "HIvzgfmDj7Kl",
        "outputId": "dde3e90e-50de-4d10-8175-3c66c9e9a4a4",
        "colab": {
          "base_uri": "https://localhost:8080/"
        }
      },
      "execution_count": 70,
      "outputs": [
        {
          "output_type": "stream",
          "name": "stdout",
          "text": [
            "The traceback info was written to error.txt.\n"
          ]
        }
      ]
    },
    {
      "cell_type": "code",
      "source": [
        "import logging\n",
        "\n",
        "# Create and configure the logger\n",
        "logging.basicConfig(filename=\"newfile.log\", format='%(asctime)s %(message)s', filemode='w')\n",
        "\n",
        "# Creates logging object\n",
        "logger = logging.getLogger()\n",
        "\n",
        "# Sets the level of logging to DEBUG\n",
        "logger.setLevel(logging.DEBUG)\n",
        "\n",
        "# Messages\n",
        "logger.debug(\"Debug Message\")\n",
        "logger.warning(\"It's a Warning\")\n",
        "logger.info(\"Just an information\")\n"
      ],
      "metadata": {
        "id": "ObznnBvGj_ES",
        "outputId": "4dcebcc7-d11a-4b44-9c1e-1c840d1260dd",
        "colab": {
          "base_uri": "https://localhost:8080/"
        }
      },
      "execution_count": 72,
      "outputs": [
        {
          "output_type": "stream",
          "name": "stderr",
          "text": [
            "DEBUG:root:Debug Message\n",
            "WARNING:root:It's a Warning\n",
            "INFO:root:Just an information\n"
          ]
        }
      ]
    },
    {
      "cell_type": "code",
      "source": [
        "mul = lambda a, b: a * b\n",
        "print(mul(3, 5))"
      ],
      "metadata": {
        "id": "pZo7s87ykEZL",
        "outputId": "68e26b9d-6169-471d-f18e-966a1065504f",
        "colab": {
          "base_uri": "https://localhost:8080/"
        }
      },
      "execution_count": 73,
      "outputs": [
        {
          "output_type": "stream",
          "name": "stdout",
          "text": [
            "15\n"
          ]
        }
      ]
    },
    {
      "cell_type": "code",
      "source": [
        "f = 2\n",
        "s = 2\n",
        "# if the sum of f and s is greater than 0 the sum\n",
        "# is printed, else 0 is printed\n",
        "print(f + s if (f + s > 0) else 0)"
      ],
      "metadata": {
        "id": "PfYYCb4VkH-G",
        "outputId": "d1276cf3-e07b-4a56-9388-0719ec136f97",
        "colab": {
          "base_uri": "https://localhost:8080/"
        }
      },
      "execution_count": 74,
      "outputs": [
        {
          "output_type": "stream",
          "name": "stdout",
          "text": [
            "4\n"
          ]
        }
      ]
    },
    {
      "cell_type": "code",
      "source": [
        "\n",
        "# the function will take in a variable number of arguments\n",
        "# and print all of their values\n",
        "def tester(*argv):\n",
        "    for arg in argv:\n",
        "        print(arg)\n",
        "tester('Sunday', 'Monday', 'Tuesday', 'Wednesday')"
      ],
      "metadata": {
        "id": "SiuKulg7kLKS",
        "outputId": "6ef33261-bda2-401a-a1f2-0fe87b7e3961",
        "colab": {
          "base_uri": "https://localhost:8080/"
        }
      },
      "execution_count": 76,
      "outputs": [
        {
          "output_type": "stream",
          "name": "stdout",
          "text": [
            "Sunday\n",
            "Monday\n",
            "Tuesday\n",
            "Wednesday\n"
          ]
        }
      ]
    },
    {
      "cell_type": "code",
      "source": [
        "# The function will take variable number of arguments\n",
        "# and print them as key value pairs\n",
        "def tester(**kwargs):\n",
        "    for key, value in kwargs.items():\n",
        "        print(key, value)\n",
        "tester(Sunday = 1, Monday = 2, Tuesday = 3, Wednesday = 4)\n"
      ],
      "metadata": {
        "id": "jrSxjlyekQOa",
        "outputId": "edf6dfeb-f975-4439-a48d-8b2466470a83",
        "colab": {
          "base_uri": "https://localhost:8080/"
        }
      },
      "execution_count": 77,
      "outputs": [
        {
          "output_type": "stream",
          "name": "stdout",
          "text": [
            "Sunday 1\n",
            "Monday 2\n",
            "Tuesday 3\n",
            "Wednesday 4\n"
          ]
        }
      ]
    },
    {
      "cell_type": "code",
      "source": [
        "class Self:\n",
        "    def __init__(self, x):\n",
        "        self.x = x\n",
        "ob = Self(\"One\")\n",
        "print(ob.x)\n"
      ],
      "metadata": {
        "id": "tk2llFrLrZKF",
        "outputId": "c904680b-130d-429f-8310-2e91b6f62977",
        "colab": {
          "base_uri": "https://localhost:8080/"
        }
      },
      "execution_count": 78,
      "outputs": [
        {
          "output_type": "stream",
          "name": "stdout",
          "text": [
            "One\n"
          ]
        }
      ]
    },
    {
      "cell_type": "code",
      "source": [
        "from dataclasses import dataclass\n",
        "from typing import Any\n",
        "@dataclass\n",
        "class WithoutExplicitTypes:\n",
        "  name: Any\n",
        "  age: Any = 16"
      ],
      "metadata": {
        "id": "qt322y3trm-n"
      },
      "execution_count": 85,
      "outputs": []
    }
  ]
}